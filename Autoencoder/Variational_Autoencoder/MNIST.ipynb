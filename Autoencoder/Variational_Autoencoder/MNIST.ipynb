{
  "nbformat": 4,
  "nbformat_minor": 0,
  "metadata": {
    "colab": {
      "name": "VariationalAutoencoders(VAE).ipynb",
      "provenance": [],
      "collapsed_sections": [],
      "mount_file_id": "1DJpL8Etw-JVtay5er4m7ay3qCIydMm5i",
      "authorship_tag": "ABX9TyMl6nCAVZVmtPPhqKNpMrba",
      "include_colab_link": true
    },
    "kernelspec": {
      "name": "python3",
      "display_name": "Python 3"
    },
    "language_info": {
      "name": "python"
    }
  },
  "cells": [
    {
      "cell_type": "markdown",
      "metadata": {
        "id": "view-in-github",
        "colab_type": "text"
      },
      "source": [
        "<a href=\"https://colab.research.google.com/github/EronDS/Neural-Networks/blob/main/Autoencoder/Variational_Autoencoder/MNIST.ipynb\" target=\"_parent\"><img src=\"https://colab.research.google.com/assets/colab-badge.svg\" alt=\"Open In Colab\"/></a>"
      ]
    },
    {
      "cell_type": "code",
      "metadata": {
        "colab": {
          "base_uri": "https://localhost:8080/"
        },
        "id": "39QJugmcQkcB",
        "outputId": "3d7a030c-57db-4246-875b-1106c6645018"
      },
      "source": [
        "!pip install utils"
      ],
      "execution_count": 14,
      "outputs": [
        {
          "output_type": "stream",
          "text": [
            "Requirement already satisfied: utils in /usr/local/lib/python3.7/dist-packages (1.0.1)\n"
          ],
          "name": "stdout"
        }
      ]
    },
    {
      "cell_type": "code",
      "metadata": {
        "id": "hLrg06dgQnXQ"
      },
      "source": [
        "from keras.models import Sequential,Model\n",
        "from keras.layers import Input,Dense,Flatten,Conv2D,Conv2DTranspose,MaxPool2D, Activation, LeakyReLU, Reshape\n",
        "from keras.datasets import mnist\n",
        "from tensorflow.keras.utils import to_categorical,plot_model\n",
        "import numpy as np \n",
        "import tensorflow.keras.backend as K\n",
        "from keras.optimizers import Adam\n",
        "from tensorflow.keras.callbacks import ReduceLROnPlateau\n",
        "import matplotlib.pyplot as plt"
      ],
      "execution_count": 15,
      "outputs": []
    },
    {
      "cell_type": "code",
      "metadata": {
        "id": "EMui0prqRFmw"
      },
      "source": [
        "(x_train, y_train) , (x_test , y_test) = mnist.load_data()\n",
        "(real_imgs_train, _) , (real_imgs_test , _) = mnist.load_data()\n"
      ],
      "execution_count": 16,
      "outputs": []
    },
    {
      "cell_type": "code",
      "metadata": {
        "id": "hpGtfcK4RNFs"
      },
      "source": [
        "x_train = x_train.astype('float32') / 255 \n",
        "x_test = x_test.astype('float32') / 255 \n",
        "\n",
        "y_train = to_categorical(y_train)\n",
        "y_test = to_categorical(y_test)\n",
        "\n",
        "NumCategories = 10 "
      ],
      "execution_count": 17,
      "outputs": []
    },
    {
      "cell_type": "code",
      "metadata": {
        "id": "_6_8IG9HRbRz"
      },
      "source": [
        "x_train = np.reshape(x_train, [-1 , 28,28,1])\n",
        "x_test = np.reshape(x_test, [-1 , 28,28,1])"
      ],
      "execution_count": 18,
      "outputs": []
    },
    {
      "cell_type": "code",
      "metadata": {
        "colab": {
          "base_uri": "https://localhost:8080/"
        },
        "id": "teK6O_wYcH3t",
        "outputId": "30d5998d-5ce3-4847-aa51-606602327e8c"
      },
      "source": [
        "x_train.shape"
      ],
      "execution_count": 19,
      "outputs": [
        {
          "output_type": "execute_result",
          "data": {
            "text/plain": [
              "(60000, 28, 28, 1)"
            ]
          },
          "metadata": {
            "tags": []
          },
          "execution_count": 19
        }
      ]
    },
    {
      "cell_type": "code",
      "metadata": {
        "colab": {
          "base_uri": "https://localhost:8080/"
        },
        "id": "qROixlsRRj4F",
        "outputId": "50895f5f-3443-4074-bebe-32f72e0c8e65"
      },
      "source": [
        "input_shape = [28,28,1]\n",
        "\n",
        "inputs = Input(shape = input_shape, name = 'encoder_inputs')\n",
        "filters = [32,64,64]\n",
        "z = 0\n",
        "x = inputs\n",
        "for filter in filters:\n",
        "  if filter == 64:\n",
        "    x = Conv2D(filters = filter, kernel_size= 3,\n",
        "                    strides =2, padding ='same' , \n",
        "                    activation = 'relu')(x)\n",
        "    x = LeakyReLU()(x)\n",
        "  if filter == 32:\n",
        "    x = Conv2D(filters = filter, kernel_size= 3,\n",
        "          strides = 1,padding = 'same',\n",
        "          activation = 'relu')(x)\n",
        "    x = LeakyReLU()(x)\n",
        "\n",
        "x = Conv2D(filters = filter, kernel_size= 3,\n",
        "          strides = 1,padding = 'same',\n",
        "          activation = 'relu')(x)\n",
        "x = LeakyReLU()(x)\n",
        "\n",
        "\n",
        "shape = K.int_shape(x)\n",
        "\n",
        "x = Flatten()(x)\n",
        "\n",
        "latentv = Dense(2 , name = 'latent_vector' )(x)\n",
        "\n",
        "encoder = Model(inputs, latentv , name = 'encoder')\n",
        "encoder.summary()"
      ],
      "execution_count": 20,
      "outputs": [
        {
          "output_type": "stream",
          "text": [
            "Model: \"encoder\"\n",
            "_________________________________________________________________\n",
            "Layer (type)                 Output Shape              Param #   \n",
            "=================================================================\n",
            "encoder_inputs (InputLayer)  [(None, 28, 28, 1)]       0         \n",
            "_________________________________________________________________\n",
            "conv2d_4 (Conv2D)            (None, 28, 28, 32)        320       \n",
            "_________________________________________________________________\n",
            "leaky_re_lu_8 (LeakyReLU)    (None, 28, 28, 32)        0         \n",
            "_________________________________________________________________\n",
            "conv2d_5 (Conv2D)            (None, 14, 14, 64)        18496     \n",
            "_________________________________________________________________\n",
            "leaky_re_lu_9 (LeakyReLU)    (None, 14, 14, 64)        0         \n",
            "_________________________________________________________________\n",
            "conv2d_6 (Conv2D)            (None, 7, 7, 64)          36928     \n",
            "_________________________________________________________________\n",
            "leaky_re_lu_10 (LeakyReLU)   (None, 7, 7, 64)          0         \n",
            "_________________________________________________________________\n",
            "conv2d_7 (Conv2D)            (None, 7, 7, 64)          36928     \n",
            "_________________________________________________________________\n",
            "leaky_re_lu_11 (LeakyReLU)   (None, 7, 7, 64)          0         \n",
            "_________________________________________________________________\n",
            "flatten_1 (Flatten)          (None, 3136)              0         \n",
            "_________________________________________________________________\n",
            "latent_vector (Dense)        (None, 2)                 6274      \n",
            "=================================================================\n",
            "Total params: 98,946\n",
            "Trainable params: 98,946\n",
            "Non-trainable params: 0\n",
            "_________________________________________________________________\n"
          ],
          "name": "stdout"
        }
      ]
    },
    {
      "cell_type": "code",
      "metadata": {
        "colab": {
          "base_uri": "https://localhost:8080/"
        },
        "id": "EIaC8YfWZkQO",
        "outputId": "5d2fb305-2edc-47f5-bbfe-d950cd0a9d43"
      },
      "source": [
        "\n",
        "latent_inputs = Input(shape = (2,) , name = 'decoder_input')\n",
        "x = Dense(shape[1] * shape[2] * shape[3])(latent_inputs)\n",
        "x = Reshape((shape[1] , shape[2] , shape[3]))(x)\n",
        "\n",
        "x = Conv2DTranspose(filters = 64, kernel_size= 3,\n",
        "                    strides =1, padding ='same' , \n",
        "                    activation = 'relu')(x)\n",
        "x = LeakyReLU()(x)\n",
        "\n",
        "for filter in filters[::-1]:\n",
        "  if filter == 64:\n",
        "    x = Conv2DTranspose(filters = filter, kernel_size= 3,\n",
        "                    strides =2, padding ='same' , \n",
        "                    activation = 'relu')(x)\n",
        "    x = LeakyReLU()(x)\n",
        "  if filter == 32:\n",
        "    x = Conv2DTranspose(filters = filter, kernel_size= 3,\n",
        "          strides = 1,padding = 'same',\n",
        "          activation = 'relu')(x)\n",
        "    x = LeakyReLU()(x)\n",
        "\n",
        "Outputs = Conv2DTranspose(filters = 1, kernel_size = 3,\n",
        "                          activation = 'sigmoid' , padding = 'same')(x)\n",
        "\n",
        "\n",
        "\n",
        "decoder = Model(latent_inputs , Outputs, name = 'decoder')\n",
        "decoder.summary()\n",
        "\n"
      ],
      "execution_count": 21,
      "outputs": [
        {
          "output_type": "stream",
          "text": [
            "Model: \"decoder\"\n",
            "_________________________________________________________________\n",
            "Layer (type)                 Output Shape              Param #   \n",
            "=================================================================\n",
            "decoder_input (InputLayer)   [(None, 2)]               0         \n",
            "_________________________________________________________________\n",
            "dense_1 (Dense)              (None, 3136)              9408      \n",
            "_________________________________________________________________\n",
            "reshape_1 (Reshape)          (None, 7, 7, 64)          0         \n",
            "_________________________________________________________________\n",
            "conv2d_transpose_5 (Conv2DTr (None, 7, 7, 64)          36928     \n",
            "_________________________________________________________________\n",
            "leaky_re_lu_12 (LeakyReLU)   (None, 7, 7, 64)          0         \n",
            "_________________________________________________________________\n",
            "conv2d_transpose_6 (Conv2DTr (None, 14, 14, 64)        36928     \n",
            "_________________________________________________________________\n",
            "leaky_re_lu_13 (LeakyReLU)   (None, 14, 14, 64)        0         \n",
            "_________________________________________________________________\n",
            "conv2d_transpose_7 (Conv2DTr (None, 28, 28, 64)        36928     \n",
            "_________________________________________________________________\n",
            "leaky_re_lu_14 (LeakyReLU)   (None, 28, 28, 64)        0         \n",
            "_________________________________________________________________\n",
            "conv2d_transpose_8 (Conv2DTr (None, 28, 28, 32)        18464     \n",
            "_________________________________________________________________\n",
            "leaky_re_lu_15 (LeakyReLU)   (None, 28, 28, 32)        0         \n",
            "_________________________________________________________________\n",
            "conv2d_transpose_9 (Conv2DTr (None, 28, 28, 1)         289       \n",
            "=================================================================\n",
            "Total params: 138,945\n",
            "Trainable params: 138,945\n",
            "Non-trainable params: 0\n",
            "_________________________________________________________________\n"
          ],
          "name": "stdout"
        }
      ]
    },
    {
      "cell_type": "code",
      "metadata": {
        "colab": {
          "base_uri": "https://localhost:8080/"
        },
        "id": "5Ifb1wVFZ45s",
        "outputId": "ab586c1a-57c8-4566-9e0a-8de0eeda3e28"
      },
      "source": [
        "autoencoder = Model(inputs , decoder(encoder(inputs)) , name = 'autoencoder')\n",
        "autoencoder.summary()"
      ],
      "execution_count": 22,
      "outputs": [
        {
          "output_type": "stream",
          "text": [
            "Model: \"autoencoder\"\n",
            "_________________________________________________________________\n",
            "Layer (type)                 Output Shape              Param #   \n",
            "=================================================================\n",
            "encoder_inputs (InputLayer)  [(None, 28, 28, 1)]       0         \n",
            "_________________________________________________________________\n",
            "encoder (Functional)         (None, 2)                 98946     \n",
            "_________________________________________________________________\n",
            "decoder (Functional)         (None, 28, 28, 1)         138945    \n",
            "=================================================================\n",
            "Total params: 237,891\n",
            "Trainable params: 237,891\n",
            "Non-trainable params: 0\n",
            "_________________________________________________________________\n"
          ],
          "name": "stdout"
        }
      ]
    },
    {
      "cell_type": "code",
      "metadata": {
        "colab": {
          "base_uri": "https://localhost:8080/",
          "height": 312
        },
        "id": "UgCI0LPNa5Pk",
        "outputId": "85b4e77c-91ab-4200-c3ff-d438672d21cf"
      },
      "source": [
        "plot_model(autoencoder, show_shapes= True)\n"
      ],
      "execution_count": 23,
      "outputs": [
        {
          "output_type": "execute_result",
          "data": {
            "image/png": "[encoded data removed]",
            "text/plain": [
              "<IPython.core.display.Image object>"
            ]
          },
          "metadata": {
            "tags": []
          },
          "execution_count": 23
        }
      ]
    },
    {
      "cell_type": "code",
      "metadata": {
        "id": "OtK5RaQwa93z"
      },
      "source": [
        "optimizer = Adam(learning_rate = 5e-3)\n",
        "\n",
        "\n",
        "def r_loss(y_true,y_pred):\n",
        "  return K.mean(K.square(y_true - y_pred) ,axis = [1,2,3])\n",
        "\n",
        "autoencoder.compile(optimizer = 'adam' , loss = 'mse' , metrics = ['acc'])"
      ],
      "execution_count": 24,
      "outputs": []
    },
    {
      "cell_type": "code",
      "metadata": {
        "colab": {
          "base_uri": "https://localhost:8080/"
        },
        "id": "7iz9pofebpsW",
        "outputId": "b016044b-b4f4-4417-fc76-e48e07fb170b"
      },
      "source": [
        "LR = ReduceLROnPlateau(monitor = 'loss' , patience = 1 , \n",
        "                       verbose = 1)\n",
        "\n",
        "\n",
        "\n",
        "autoencoder.fit(x_train,x_train,epochs = 1, callbacks = LR)"
      ],
      "execution_count": 26,
      "outputs": [
        {
          "output_type": "stream",
          "text": [
            "1875/1875 [==============================] - 423s 226ms/step - loss: 0.0417 - acc: 0.7989\n"
          ],
          "name": "stdout"
        },
        {
          "output_type": "execute_result",
          "data": {
            "text/plain": [
              "<keras.callbacks.History at 0x7f99e566a490>"
            ]
          },
          "metadata": {
            "tags": []
          },
          "execution_count": 26
        }
      ]
    },
    {
      "cell_type": "markdown",
      "metadata": {
        "id": "xuhJVTHi7fUF"
      },
      "source": [
        "Training Set"
      ]
    },
    {
      "cell_type": "code",
      "metadata": {
        "colab": {
          "base_uri": "https://localhost:8080/",
          "height": 619
        },
        "id": "FTOMjCGVwEvz",
        "outputId": "3d01e42b-1cdb-4b73-b4b0-82fea1f5eb29"
      },
      "source": [
        "u = 1\n",
        "x = 2\n",
        "for i in range(12,17):\n",
        "  plt.figure(figsize = (10,3))\n",
        "  if u >= 7:\n",
        "    break\n",
        "  plt.subplot(1,2,1)\n",
        "  plt.text(-20 , 20 , 'Predicted', fontsize = 20)\n",
        "  u+= 2\n",
        "  plt.imshow(np.clip(autoencoder.predict(x_train[i].reshape(1,28 , 28,1)),0.0,1.0).reshape(28, 28,1)[:,:,0])\n",
        "  x+=2\n",
        "  plt.subplot(1,2 ,2 )\n",
        "  plt.text(-15 , 20 , 'Real', fontsize = 20)\n",
        "  plt.imshow(real_imgs_train[i])"
      ],
      "execution_count": 29,
      "outputs": [
        {
          "output_type": "display_data",
          "data": {
            "image/png": "[encoded data removed]",
            "text/plain": [
              "<Figure size 720x216 with 2 Axes>"
            ]
          },
          "metadata": {
            "tags": [],
            "needs_background": "light"
          }
        },
        {
          "output_type": "display_data",
          "data": {
            "image/png": "[encoded data removed]",
            "text/plain": [
              "<Figure size 720x216 with 2 Axes>"
            ]
          },
          "metadata": {
            "tags": [],
            "needs_background": "light"
          }
        },
        {
          "output_type": "display_data",
          "data": {
            "image/png": "[encoded data removed]",
            "text/plain": [
              "<Figure size 720x216 with 2 Axes>"
            ]
          },
          "metadata": {
            "tags": [],
            "needs_background": "light"
          }
        },
        {
          "output_type": "display_data",
          "data": {
            "text/plain": [
              "<Figure size 720x216 with 0 Axes>"
            ]
          },
          "metadata": {
            "tags": []
          }
        }
      ]
    },
    {
      "cell_type": "markdown",
      "metadata": {
        "id": "YGA-4bAs7hDs"
      },
      "source": [
        "Test Set"
      ]
    },
    {
      "cell_type": "code",
      "metadata": {
        "colab": {
          "base_uri": "https://localhost:8080/",
          "height": 619
        },
        "id": "_2q9Zekqre7p",
        "outputId": "5807fba3-89bd-43e9-d5a3-7df46c0ac2fb"
      },
      "source": [
        "u = 1\n",
        "x = 2\n",
        "for i in range(12,17):\n",
        "  plt.figure(figsize = (10,3))\n",
        "  if u >= 7:\n",
        "    break\n",
        "  plt.subplot(1,2,1)\n",
        "  plt.text(-20 , 20 , 'Predicted', fontsize = 20)\n",
        "  u+= 2\n",
        "  plt.imshow(np.clip(autoencoder.predict(x_test[i].reshape(1,28 , 28,1)),0.0,1.0).reshape(28, 28,1)[:,:,0])\n",
        "  x+=2\n",
        "  plt.subplot(1,2 ,2 )\n",
        "  plt.text(-15 , 20 , 'Real', fontsize = 20)\n",
        "  plt.imshow(real_imgs_test[i])"
      ],
      "execution_count": 30,
      "outputs": [
        {
          "output_type": "display_data",
          "data": {
            "image/png": "[encoded data removed]",
            "text/plain": [
              "<Figure size 720x216 with 2 Axes>"
            ]
          },
          "metadata": {
            "tags": [],
            "needs_background": "light"
          }
        },
        {
          "output_type": "display_data",
          "data": {
            "image/png": "[encoded data removed]",
            "text/plain": [
              "<Figure size 720x216 with 2 Axes>"
            ]
          },
          "metadata": {
            "tags": [],
            "needs_background": "light"
          }
        },
        {
          "output_type": "display_data",
          "data": {
            "image/png": "[encoded data removed]",
            "text/plain": [
              "<Figure size 720x216 with 2 Axes>"
            ]
          },
          "metadata": {
            "tags": [],
            "needs_background": "light"
          }
        },
        {
          "output_type": "display_data",
          "data": {
            "text/plain": [
              "<Figure size 720x216 with 0 Axes>"
            ]
          },
          "metadata": {
            "tags": []
          }
        }
      ]
    },
    {
      "cell_type": "code",
      "metadata": {
        "id": "Mcp1yYr-6t9U"
      },
      "source": [
        "autoencoder.save('VAEMNIST.h5')"
      ],
      "execution_count": 34,
      "outputs": []
    },
    {
      "cell_type": "code",
      "metadata": {
        "id": "sOB9k0Uq6zjv"
      },
      "source": [
        "from tensorflow.keras.models import load_model\n",
        "model = load_model('/content/VAEMNIST.h5')"
      ],
      "execution_count": 36,
      "outputs": []
    },
    {
      "cell_type": "code",
      "metadata": {
        "colab": {
          "base_uri": "https://localhost:8080/"
        },
        "id": "thSbsjK76-Em",
        "outputId": "d1301ff2-61c3-46e7-e809-7fb63e93a919"
      },
      "source": [
        "model.summary()"
      ],
      "execution_count": 37,
      "outputs": [
        {
          "output_type": "stream",
          "text": [
            "Model: \"autoencoder\"\n",
            "_________________________________________________________________\n",
            "Layer (type)                 Output Shape              Param #   \n",
            "=================================================================\n",
            "encoder_inputs (InputLayer)  [(None, 28, 28, 1)]       0         \n",
            "_________________________________________________________________\n",
            "encoder (Functional)         (None, 2)                 98946     \n",
            "_________________________________________________________________\n",
            "decoder (Functional)         (None, 28, 28, 1)         138945    \n",
            "=================================================================\n",
            "Total params: 237,891\n",
            "Trainable params: 237,891\n",
            "Non-trainable params: 0\n",
            "_________________________________________________________________\n"
          ],
          "name": "stdout"
        }
      ]
    }
  ]
}