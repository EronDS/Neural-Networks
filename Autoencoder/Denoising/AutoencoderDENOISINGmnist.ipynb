{
  "nbformat": 4,
  "nbformat_minor": 0,
  "metadata": {
    "colab": {
      "name": "AutoencoderDENOISING.ipynb",
      "provenance": [],
      "authorship_tag": "ABX9TyPlnRvZEW6h3ZXJ0CFLNXTS",
      "include_colab_link": true
    },
    "kernelspec": {
      "name": "python3",
      "display_name": "Python 3"
    },
    "language_info": {
      "name": "python"
    },
    "accelerator": "GPU"
  },
  "cells": [
    {
      "cell_type": "markdown",
      "metadata": {
        "id": "view-in-github",
        "colab_type": "text"
      },
      "source": [
        "<a href=\"https://colab.research.google.com/github/EronDS/Neural-Networks/blob/main/Autoencoder/Denoising/AutoencoderDENOISINGmnist.ipynb\" target=\"_parent\"><img src=\"https://colab.research.google.com/assets/colab-badge.svg\" alt=\"Open In Colab\"/></a>"
      ]
    },
    {
      "cell_type": "code",
      "metadata": {
        "id": "iE0iQ3LRZsQY"
      },
      "source": [
        "from keras.models import Sequential,Model \n",
        "from keras.layers import Dense,Conv2D,Conv2DTranspose,Activation,LeakyReLU, Reshape, Input, Flatten\n",
        "from tensorflow.keras.utils import plot_model\n",
        "import numpy as np \n",
        "from keras.optimizers import Adam,RMSprop\n",
        "from keras.datasets import mnist\n",
        "import matplotlib.pyplot as plt\n",
        "from keras.preprocessing.image import ImageDataGenerator"
      ],
      "execution_count": 1,
      "outputs": []
    },
    {
      "cell_type": "code",
      "metadata": {
        "id": "AZMt3RStaObt"
      },
      "source": [
        "(x_train, y_train) , (x_test, y_test) = mnist.load_data()\n",
        "(real_imgs_train , __) , (real_imgs_test , __) = mnist.load_data()"
      ],
      "execution_count": 2,
      "outputs": []
    },
    {
      "cell_type": "code",
      "metadata": {
        "id": "2ItRXUq6ak8D"
      },
      "source": [
        "num_categories = 10 \n",
        "\n",
        "\n",
        "x_train = x_train.astype('float32') / 255 \n",
        "x_test = x_test.astype('float32') / 255 \n",
        "\n",
        "\n",
        "x_train = np.reshape(x_train , [-1, 28 , 28 , 1])\n",
        "x_test = np.reshape(x_test , [-1 , 28 , 28 , 1])\n",
        "\n",
        "\n",
        "batch_size = 64 \n",
        "\n"
      ],
      "execution_count": 3,
      "outputs": []
    },
    {
      "cell_type": "code",
      "metadata": {
        "colab": {
          "base_uri": "https://localhost:8080/"
        },
        "id": "BTxUCm7ZbJDc",
        "outputId": "f6ad4168-1b34-4138-d119-ae0f73a35e26"
      },
      "source": [
        "inputs = Input(shape = (28 , 28 , 1) , name = 'encoder_input')\n",
        "inputs_ = Flatten()(inputs)\n",
        "\n",
        "enc_1 = Dense(128 , activation = 'relu')(inputs_)\n",
        "enc_2 = Dense(64 , activation = 'relu')(enc_1)\n",
        "\n",
        "latent = Dense(32, activation = 'relu' , name = 'latent_vector')(enc_2)\n",
        "\n",
        "\n",
        "dec_1 = Dense(64 , activation = 'relu' , name = 'decoder_input')(latent)\n",
        "dec_2 = Dense(128 , activation = 'relu')(dec_1)\n",
        "dec = Dense(np.prod((28,28,1)) , activation = 'sigmoid' , name = 'decoder_output')(dec_2)\n",
        "\n",
        "decoded = Reshape((28,28,1))(dec)\n",
        "\n",
        "autoencoder = Model(inputs,decoded , name = 'autoencoder')\n",
        "autoencoder.summary()"
      ],
      "execution_count": 4,
      "outputs": [
        {
          "output_type": "stream",
          "text": [
            "Model: \"autoencoder\"\n",
            "_________________________________________________________________\n",
            "Layer (type)                 Output Shape              Param #   \n",
            "=================================================================\n",
            "encoder_input (InputLayer)   [(None, 28, 28, 1)]       0         \n",
            "_________________________________________________________________\n",
            "flatten (Flatten)            (None, 784)               0         \n",
            "_________________________________________________________________\n",
            "dense (Dense)                (None, 128)               100480    \n",
            "_________________________________________________________________\n",
            "dense_1 (Dense)              (None, 64)                8256      \n",
            "_________________________________________________________________\n",
            "latent_vector (Dense)        (None, 32)                2080      \n",
            "_________________________________________________________________\n",
            "decoder_input (Dense)        (None, 64)                2112      \n",
            "_________________________________________________________________\n",
            "dense_2 (Dense)              (None, 128)               8320      \n",
            "_________________________________________________________________\n",
            "decoder_output (Dense)       (None, 784)               101136    \n",
            "_________________________________________________________________\n",
            "reshape (Reshape)            (None, 28, 28, 1)         0         \n",
            "=================================================================\n",
            "Total params: 222,384\n",
            "Trainable params: 222,384\n",
            "Non-trainable params: 0\n",
            "_________________________________________________________________\n"
          ],
          "name": "stdout"
        }
      ]
    },
    {
      "cell_type": "code",
      "metadata": {
        "id": "zj3qORVOcNE0"
      },
      "source": [
        "def GaussianNoise(img):\n",
        "\n",
        "\n",
        "  noise = np.random.uniform(.2,.6)\n",
        "  Gnoise = np.random.normal(scale = .2 , size = img.shape)\n",
        "  img_noised = img + Gnoise \n",
        "\n",
        "\n",
        "  img_noised = np.clip(img_noised , 0. , 1.)\n",
        "\n",
        "  return img_noised"
      ],
      "execution_count": 5,
      "outputs": []
    },
    {
      "cell_type": "code",
      "metadata": {
        "id": "qt6wQ_p5c07c"
      },
      "source": [
        "datagen = ImageDataGenerator(preprocessing_function= GaussianNoise)\n",
        "\n",
        "train_data = datagen.flow(x_train,x_train,batch_size= batch_size, shuffle  = False)"
      ],
      "execution_count": 6,
      "outputs": []
    },
    {
      "cell_type": "code",
      "metadata": {
        "id": "oyrM8pPadchP"
      },
      "source": [
        "x_val = GaussianNoise(x_test)\n",
        "\n",
        "\n",
        "val_datagen = ImageDataGenerator()\n",
        "val_data = val_datagen.flow(x_val,x_test,batch_size= batch_size,shuffle = False)"
      ],
      "execution_count": 7,
      "outputs": []
    },
    {
      "cell_type": "code",
      "metadata": {
        "id": "5x2UXA-Idouo"
      },
      "source": [
        "autoencoder.compile('adam' , loss = 'binary_crossentropy' , metrics = 'mse')"
      ],
      "execution_count": 8,
      "outputs": []
    },
    {
      "cell_type": "code",
      "metadata": {
        "colab": {
          "base_uri": "https://localhost:8080/"
        },
        "id": "oSzS-nQjd6EN",
        "outputId": "238ef0f6-cac0-4fbe-b710-094c916e6dd9"
      },
      "source": [
        "train_steps = train_data.n // train_data.batch_size \n",
        "val_steps = val_data.n // train_data.batch_size\n",
        "\n",
        "\n",
        "\n",
        "autoencoder.fit_generator(train_data,steps_per_epoch=train_steps,\n",
        "                          epochs = 50, validation_data = val_data,\n",
        "                          validation_steps = val_steps)"
      ],
      "execution_count": 9,
      "outputs": [
        {
          "output_type": "stream",
          "text": [
            "/usr/local/lib/python3.7/dist-packages/keras/engine/training.py:1915: UserWarning: `Model.fit_generator` is deprecated and will be removed in a future version. Please use `Model.fit`, which supports generators.\n",
            "  warnings.warn('`Model.fit_generator` is deprecated and '\n"
          ],
          "name": "stderr"
        },
        {
          "output_type": "stream",
          "text": [
            "Epoch 1/50\n",
            "937/937 [==============================] - 20s 9ms/step - loss: 0.2499 - mse: 0.0628 - val_loss: 0.1405 - val_mse: 0.0259\n",
            "Epoch 2/50\n",
            "937/937 [==============================] - 8s 9ms/step - loss: 0.1364 - mse: 0.0244 - val_loss: 0.1230 - val_mse: 0.0201\n",
            "Epoch 3/50\n",
            "937/937 [==============================] - 8s 9ms/step - loss: 0.1223 - mse: 0.0197 - val_loss: 0.1147 - val_mse: 0.0173\n",
            "Epoch 4/50\n",
            "937/937 [==============================] - 8s 8ms/step - loss: 0.1134 - mse: 0.0168 - val_loss: 0.1090 - val_mse: 0.0154\n",
            "Epoch 5/50\n",
            "937/937 [==============================] - 8s 8ms/step - loss: 0.1091 - mse: 0.0154 - val_loss: 0.1065 - val_mse: 0.0146\n",
            "Epoch 6/50\n",
            "937/937 [==============================] - 8s 9ms/step - loss: 0.1066 - mse: 0.0145 - val_loss: 0.1034 - val_mse: 0.0136\n",
            "Epoch 7/50\n",
            "937/937 [==============================] - 8s 9ms/step - loss: 0.1039 - mse: 0.0137 - val_loss: 0.1017 - val_mse: 0.0131\n",
            "Epoch 8/50\n",
            "937/937 [==============================] - 8s 9ms/step - loss: 0.1026 - mse: 0.0133 - val_loss: 0.1002 - val_mse: 0.0125\n",
            "Epoch 9/50\n",
            "937/937 [==============================] - 8s 9ms/step - loss: 0.1010 - mse: 0.0127 - val_loss: 0.0987 - val_mse: 0.0120\n",
            "Epoch 10/50\n",
            "937/937 [==============================] - 8s 9ms/step - loss: 0.0998 - mse: 0.0123 - val_loss: 0.0976 - val_mse: 0.0117\n",
            "Epoch 11/50\n",
            "937/937 [==============================] - 8s 8ms/step - loss: 0.0985 - mse: 0.0120 - val_loss: 0.0968 - val_mse: 0.0114\n",
            "Epoch 12/50\n",
            "937/937 [==============================] - 8s 9ms/step - loss: 0.0976 - mse: 0.0117 - val_loss: 0.0971 - val_mse: 0.0115\n",
            "Epoch 13/50\n",
            "937/937 [==============================] - 8s 9ms/step - loss: 0.0974 - mse: 0.0116 - val_loss: 0.0961 - val_mse: 0.0112\n",
            "Epoch 14/50\n",
            "937/937 [==============================] - 8s 9ms/step - loss: 0.0966 - mse: 0.0113 - val_loss: 0.0953 - val_mse: 0.0110\n",
            "Epoch 15/50\n",
            "937/937 [==============================] - 8s 9ms/step - loss: 0.0960 - mse: 0.0111 - val_loss: 0.0945 - val_mse: 0.0107\n",
            "Epoch 16/50\n",
            "937/937 [==============================] - 8s 9ms/step - loss: 0.0949 - mse: 0.0108 - val_loss: 0.0941 - val_mse: 0.0106\n",
            "Epoch 17/50\n",
            "937/937 [==============================] - 8s 9ms/step - loss: 0.0947 - mse: 0.0107 - val_loss: 0.0935 - val_mse: 0.0104\n",
            "Epoch 18/50\n",
            "937/937 [==============================] - 8s 9ms/step - loss: 0.0946 - mse: 0.0107 - val_loss: 0.0938 - val_mse: 0.0105\n",
            "Epoch 19/50\n",
            "937/937 [==============================] - 8s 9ms/step - loss: 0.0943 - mse: 0.0106 - val_loss: 0.0931 - val_mse: 0.0102\n",
            "Epoch 20/50\n",
            "937/937 [==============================] - 8s 9ms/step - loss: 0.0940 - mse: 0.0105 - val_loss: 0.0941 - val_mse: 0.0106\n",
            "Epoch 21/50\n",
            "937/937 [==============================] - 8s 9ms/step - loss: 0.0938 - mse: 0.0104 - val_loss: 0.0926 - val_mse: 0.0101\n",
            "Epoch 22/50\n",
            "937/937 [==============================] - 8s 8ms/step - loss: 0.0933 - mse: 0.0103 - val_loss: 0.0924 - val_mse: 0.0100\n",
            "Epoch 23/50\n",
            "937/937 [==============================] - 8s 8ms/step - loss: 0.0934 - mse: 0.0103 - val_loss: 0.0923 - val_mse: 0.0100\n",
            "Epoch 24/50\n",
            "937/937 [==============================] - 8s 9ms/step - loss: 0.0931 - mse: 0.0102 - val_loss: 0.0928 - val_mse: 0.0101\n",
            "Epoch 25/50\n",
            "937/937 [==============================] - 8s 9ms/step - loss: 0.0930 - mse: 0.0102 - val_loss: 0.0921 - val_mse: 0.0099\n",
            "Epoch 26/50\n",
            "937/937 [==============================] - 8s 9ms/step - loss: 0.0928 - mse: 0.0101 - val_loss: 0.0920 - val_mse: 0.0099\n",
            "Epoch 27/50\n",
            "937/937 [==============================] - 8s 8ms/step - loss: 0.0927 - mse: 0.0100 - val_loss: 0.0925 - val_mse: 0.0101\n",
            "Epoch 28/50\n",
            "937/937 [==============================] - 8s 9ms/step - loss: 0.0926 - mse: 0.0100 - val_loss: 0.0916 - val_mse: 0.0098\n",
            "Epoch 29/50\n",
            "937/937 [==============================] - 8s 9ms/step - loss: 0.0924 - mse: 0.0100 - val_loss: 0.0921 - val_mse: 0.0099\n",
            "Epoch 30/50\n",
            "937/937 [==============================] - 8s 8ms/step - loss: 0.0921 - mse: 0.0099 - val_loss: 0.0915 - val_mse: 0.0097\n",
            "Epoch 31/50\n",
            "937/937 [==============================] - 8s 9ms/step - loss: 0.0924 - mse: 0.0099 - val_loss: 0.0918 - val_mse: 0.0098\n",
            "Epoch 32/50\n",
            "937/937 [==============================] - 8s 8ms/step - loss: 0.0919 - mse: 0.0098 - val_loss: 0.0912 - val_mse: 0.0096\n",
            "Epoch 33/50\n",
            "937/937 [==============================] - 8s 9ms/step - loss: 0.0918 - mse: 0.0098 - val_loss: 0.0913 - val_mse: 0.0097\n",
            "Epoch 34/50\n",
            "937/937 [==============================] - 8s 8ms/step - loss: 0.0917 - mse: 0.0098 - val_loss: 0.0915 - val_mse: 0.0097\n",
            "Epoch 35/50\n",
            "937/937 [==============================] - 8s 8ms/step - loss: 0.0921 - mse: 0.0098 - val_loss: 0.0911 - val_mse: 0.0096\n",
            "Epoch 36/50\n",
            "937/937 [==============================] - 8s 9ms/step - loss: 0.0918 - mse: 0.0098 - val_loss: 0.0909 - val_mse: 0.0095\n",
            "Epoch 37/50\n",
            "937/937 [==============================] - 8s 9ms/step - loss: 0.0916 - mse: 0.0097 - val_loss: 0.0905 - val_mse: 0.0094\n",
            "Epoch 38/50\n",
            "937/937 [==============================] - 8s 9ms/step - loss: 0.0916 - mse: 0.0097 - val_loss: 0.0906 - val_mse: 0.0094\n",
            "Epoch 39/50\n",
            "937/937 [==============================] - 8s 8ms/step - loss: 0.0912 - mse: 0.0096 - val_loss: 0.0907 - val_mse: 0.0095\n",
            "Epoch 40/50\n",
            "937/937 [==============================] - 8s 9ms/step - loss: 0.0914 - mse: 0.0096 - val_loss: 0.0903 - val_mse: 0.0093\n",
            "Epoch 41/50\n",
            "937/937 [==============================] - 8s 9ms/step - loss: 0.0912 - mse: 0.0096 - val_loss: 0.0912 - val_mse: 0.0096\n",
            "Epoch 42/50\n",
            "937/937 [==============================] - 8s 9ms/step - loss: 0.0913 - mse: 0.0096 - val_loss: 0.0903 - val_mse: 0.0093\n",
            "Epoch 43/50\n",
            "937/937 [==============================] - 8s 9ms/step - loss: 0.0910 - mse: 0.0095 - val_loss: 0.0904 - val_mse: 0.0094\n",
            "Epoch 44/50\n",
            "937/937 [==============================] - 8s 9ms/step - loss: 0.0910 - mse: 0.0095 - val_loss: 0.0904 - val_mse: 0.0094\n",
            "Epoch 45/50\n",
            "937/937 [==============================] - 8s 8ms/step - loss: 0.0909 - mse: 0.0095 - val_loss: 0.0905 - val_mse: 0.0094\n",
            "Epoch 46/50\n",
            "937/937 [==============================] - 8s 9ms/step - loss: 0.0908 - mse: 0.0095 - val_loss: 0.0903 - val_mse: 0.0093\n",
            "Epoch 47/50\n",
            "937/937 [==============================] - 8s 9ms/step - loss: 0.0910 - mse: 0.0095 - val_loss: 0.0904 - val_mse: 0.0094\n",
            "Epoch 48/50\n",
            "937/937 [==============================] - 8s 9ms/step - loss: 0.0906 - mse: 0.0094 - val_loss: 0.0902 - val_mse: 0.0093\n",
            "Epoch 49/50\n",
            "937/937 [==============================] - 8s 9ms/step - loss: 0.0908 - mse: 0.0094 - val_loss: 0.0907 - val_mse: 0.0094\n",
            "Epoch 50/50\n",
            "937/937 [==============================] - 8s 9ms/step - loss: 0.0906 - mse: 0.0094 - val_loss: 0.0907 - val_mse: 0.0095\n"
          ],
          "name": "stdout"
        },
        {
          "output_type": "execute_result",
          "data": {
            "text/plain": [
              "<keras.callbacks.History at 0x7ff837b059d0>"
            ]
          },
          "metadata": {
            "tags": []
          },
          "execution_count": 9
        }
      ]
    },
    {
      "cell_type": "markdown",
      "metadata": {
        "id": "e_2qQ2EAjBlC"
      },
      "source": [
        "Train Data"
      ]
    },
    {
      "cell_type": "code",
      "metadata": {
        "colab": {
          "base_uri": "https://localhost:8080/",
          "height": 620
        },
        "id": "SafK8cqQeNjO",
        "outputId": "c4500456-0874-4a2e-fb63-cf92262c29d3"
      },
      "source": [
        "u = 1\n",
        "x = 2\n",
        "for i in range(12,17):\n",
        "  plt.figure(figsize = (10,3))\n",
        "  if u >= 7:\n",
        "    break\n",
        "  plt.subplot(1,2,1)\n",
        "  plt.text(-20 , 20 , 'Output', fontsize = 18)\n",
        "  u+= 2\n",
        "  plt.imshow(np.clip(autoencoder.predict(x_train[i].reshape(1,28 , 28,1)),0.0,1.0).reshape(28, 28,1)[:,:,0], cmap = 'gray')\n",
        "  x+=2\n",
        "  plt.subplot(1,2 ,2 )\n",
        "  plt.text(-24 , 20 , 'Noisy(Input)', fontsize = 18)\n",
        "  plt.imshow(train_data[0][0][i].reshape(28,28) , cmap = 'gray')\n"
      ],
      "execution_count": 10,
      "outputs": [
        {
          "output_type": "display_data",
          "data": {
            "image/png": "[encoded data removed]",
            "text/plain": [
              "<Figure size 720x216 with 2 Axes>"
            ]
          },
          "metadata": {
            "tags": [],
            "needs_background": "light"
          }
        },
        {
          "output_type": "display_data",
          "data": {
            "image/png": "[encoded data removed]",
            "text/plain": [
              "<Figure size 720x216 with 2 Axes>"
            ]
          },
          "metadata": {
            "tags": [],
            "needs_background": "light"
          }
        },
        {
          "output_type": "display_data",
          "data": {
            "image/png": "[encoded data removed]",
            "text/plain": [
              "<Figure size 720x216 with 2 Axes>"
            ]
          },
          "metadata": {
            "tags": [],
            "needs_background": "light"
          }
        },
        {
          "output_type": "display_data",
          "data": {
            "text/plain": [
              "<Figure size 720x216 with 0 Axes>"
            ]
          },
          "metadata": {
            "tags": []
          }
        }
      ]
    },
    {
      "cell_type": "markdown",
      "metadata": {
        "id": "ymXLW0mRjDGI"
      },
      "source": [
        "Test (Validation) Data"
      ]
    },
    {
      "cell_type": "code",
      "metadata": {
        "colab": {
          "base_uri": "https://localhost:8080/",
          "height": 620
        },
        "id": "VhsIQ0wLi2M_",
        "outputId": "5ae8b5be-3270-4726-a875-daaeb5ea0e61"
      },
      "source": [
        "u = 1\n",
        "x = 2\n",
        "for i in range(12,17):\n",
        "  plt.figure(figsize = (10,3))\n",
        "  if u >= 7:\n",
        "    break\n",
        "  plt.subplot(1,2,1)\n",
        "  plt.text(-20 , 20 , 'Output', fontsize = 18)\n",
        "  u+= 2\n",
        "  plt.imshow(np.clip(autoencoder.predict(x_test[i].reshape(1,28 , 28,1)),0.0,1.0).reshape(28, 28,1)[:,:,0], cmap = 'gray')\n",
        "  x+=2\n",
        "  plt.subplot(1,2 ,2 )\n",
        "  plt.text(-24 , 20 , 'Noisy(Input)', fontsize = 18)\n",
        "  plt.imshow(val_data[0][0][i].reshape(28,28) , cmap = 'gray')\n"
      ],
      "execution_count": 11,
      "outputs": [
        {
          "output_type": "display_data",
          "data": {
            "image/png": "[encoded data removed]",
            "text/plain": [
              "<Figure size 720x216 with 2 Axes>"
            ]
          },
          "metadata": {
            "tags": [],
            "needs_background": "light"
          }
        },
        {
          "output_type": "display_data",
          "data": {
            "image/png": "[encoded data removed]",
            "text/plain": [
              "<Figure size 720x216 with 2 Axes>"
            ]
          },
          "metadata": {
            "tags": [],
            "needs_background": "light"
          }
        },
        {
          "output_type": "display_data",
          "data": {
            "image/png": "[encoded data removed]",
            "text/plain": [
              "<Figure size 720x216 with 2 Axes>"
            ]
          },
          "metadata": {
            "tags": [],
            "needs_background": "light"
          }
        },
        {
          "output_type": "display_data",
          "data": {
            "text/plain": [
              "<Figure size 720x216 with 0 Axes>"
            ]
          },
          "metadata": {
            "tags": []
          }
        }
      ]
    },
    {
      "cell_type": "code",
      "metadata": {
        "id": "mvuEX46wjrf0"
      },
      "source": [
        ""
      ],
      "execution_count": 11,
      "outputs": []
    }
  ]
}