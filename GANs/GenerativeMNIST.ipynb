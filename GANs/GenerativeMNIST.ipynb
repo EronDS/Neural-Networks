{
  "nbformat": 4,
  "nbformat_minor": 0,
  "metadata": {
    "colab": {
      "name": "GenerativeMNIST.ipynb",
      "provenance": [],
      "collapsed_sections": [],
      "authorship_tag": "ABX9TyM3X63wNO0lB/NMJJajCHdt",
      "include_colab_link": true
    },
    "kernelspec": {
      "name": "python3",
      "display_name": "Python 3"
    },
    "language_info": {
      "name": "python"
    },
    "accelerator": "GPU"
  },
  "cells": [
    {
      "cell_type": "markdown",
      "metadata": {
        "id": "view-in-github",
        "colab_type": "text"
      },
      "source": [
        "<a href=\"https://colab.research.google.com/github/EronDS/Neural-Networks/blob/main/GANs/GenerativeMNIST.ipynb\" target=\"_parent\"><img src=\"https://colab.research.google.com/assets/colab-badge.svg\" alt=\"Open In Colab\"/></a>"
      ]
    },
    {
      "cell_type": "code",
      "metadata": {
        "id": "izYXKB8acTTR"
      },
      "source": [
        "from keras.layers import Dense,Flatten,Conv2D,Conv2DTranspose,Input,Activation, LeakyReLU, BatchNormalization, Reshape, Dropout, LeakyReLU, UpSampling2D, BatchNormalization\n",
        "from keras.models import Model,Sequential\n",
        "from keras.datasets import mnist\n",
        "import tensorflow.keras.backend as K \n",
        "import numpy as np \n",
        "from keras.optimizers import RMSprop,Adam\n",
        "import matplotlib.pyplot as plt \n",
        "import PIL\n",
        "plt.style.use('dark_background')"
      ],
      "execution_count": null,
      "outputs": []
    },
    {
      "cell_type": "code",
      "metadata": {
        "id": "8Gm2mbbmMqsU"
      },
      "source": [
        "(x_train , _) , (x_test , _ ) = mnist.load_data()\n",
        "(trimgs , _) , (teimgs , _) = mnist.load_data()"
      ],
      "execution_count": null,
      "outputs": []
    },
    {
      "cell_type": "code",
      "metadata": {
        "id": "DonPQG3YM1ng"
      },
      "source": [
        "x_train = x_train.astype('float32') / 255\n",
        "x_test = x_test.astype('float32') / 255\n",
        "\n",
        "x_train = np.reshape(x_train, [-1, 28 , 28 , 1])\n",
        "x_test = np.reshape(x_test ,[-1 , 28 , 28 , 1])\n",
        "\n",
        "\n"
      ],
      "execution_count": null,
      "outputs": []
    },
    {
      "cell_type": "code",
      "metadata": {
        "colab": {
          "base_uri": "https://localhost:8080/"
        },
        "id": "1pbyNoZjl0kE",
        "outputId": "d4adfa69-0019-4ea0-92a3-9bb428940d1d"
      },
      "source": [
        "input_shape = [28,28,1]\n",
        "\n",
        "inputs = Input(shape = input_shape, name = 'encoder_inputs')\n",
        "filters = [64,128, 128]\n",
        "z = 0\n",
        "x = inputs\n",
        "for filter in filters:\n",
        "  if filter == 64:\n",
        "    x = Conv2D(filters = filter, kernel_size= 3,\n",
        "                    strides =2, padding ='same' , \n",
        "                    activation = 'relu')(x)\n",
        "    x = LeakyReLU()(x)\n",
        "    z+=1\n",
        "  if z == 1:\n",
        "    x = Conv2D(filters = filter, kernel_size= 3,\n",
        "          strides = 2,padding = 'same',\n",
        "          activation = 'relu')(x)\n",
        "    x = LeakyReLU()(x)\n",
        "    z+=1\n",
        "  if z==2:\n",
        "    x = Conv2D(filters = filter, kernel_size= 3,\n",
        "          strides = 1,padding = 'same',\n",
        "          activation = 'relu')(x)\n",
        "\n",
        "\n",
        "\n",
        "x = Conv2D(filters = filter, kernel_size= 3,\n",
        "          strides = 1,padding = 'same',\n",
        "          activation = 'relu')(x)\n",
        "\n",
        "\n",
        "shape = K.int_shape(x)\n",
        "\n",
        "x = Flatten()(x)\n",
        "\n",
        "disc_output = Dense(1 ,activation = 'sigmoid' , name = 'output' )(x)\n",
        "\n",
        "discriminator = Model(inputs, disc_output , name = 'discriminator')\n",
        "discriminator.summary()"
      ],
      "execution_count": null,
      "outputs": [
        {
          "output_type": "stream",
          "text": [
            "Model: \"discriminator\"\n",
            "_________________________________________________________________\n",
            "Layer (type)                 Output Shape              Param #   \n",
            "=================================================================\n",
            "encoder_inputs (InputLayer)  [(None, 28, 28, 1)]       0         \n",
            "_________________________________________________________________\n",
            "conv2d (Conv2D)              (None, 14, 14, 64)        640       \n",
            "_________________________________________________________________\n",
            "leaky_re_lu (LeakyReLU)      (None, 14, 14, 64)        0         \n",
            "_________________________________________________________________\n",
            "conv2d_1 (Conv2D)            (None, 7, 7, 64)          36928     \n",
            "_________________________________________________________________\n",
            "leaky_re_lu_1 (LeakyReLU)    (None, 7, 7, 64)          0         \n",
            "_________________________________________________________________\n",
            "conv2d_2 (Conv2D)            (None, 7, 7, 64)          36928     \n",
            "_________________________________________________________________\n",
            "conv2d_3 (Conv2D)            (None, 7, 7, 128)         73856     \n",
            "_________________________________________________________________\n",
            "conv2d_4 (Conv2D)            (None, 7, 7, 128)         147584    \n",
            "_________________________________________________________________\n",
            "conv2d_5 (Conv2D)            (None, 7, 7, 128)         147584    \n",
            "_________________________________________________________________\n",
            "flatten (Flatten)            (None, 6272)              0         \n",
            "_________________________________________________________________\n",
            "output (Dense)               (None, 1)                 6273      \n",
            "=================================================================\n",
            "Total params: 449,793\n",
            "Trainable params: 449,793\n",
            "Non-trainable params: 0\n",
            "_________________________________________________________________\n"
          ],
          "name": "stdout"
        }
      ]
    },
    {
      "cell_type": "code",
      "metadata": {
        "colab": {
          "base_uri": "https://localhost:8080/"
        },
        "id": "D83IIZWVmri9",
        "outputId": "18ed051f-5431-4585-ca2e-cd1d78df7a09"
      },
      "source": [
        "z_dim = 100\n",
        "\n",
        "latent_inputs = Input(shape = (100,) , name = 'decoder_input')\n",
        "x = Dense(shape[1] * shape[2] * shape[3])(latent_inputs)\n",
        "x = Reshape((shape[1] , shape[2] , shape[3]))(x)\n",
        "\n",
        "#x = UpSampling2D()(x)\n",
        "#x = Conv2D(64, kernel_size = 3, strides = 1,\n",
        "           #padding = 'same')(x)\n",
        "#x = BatchNormalization()(x)\n",
        "#x = Activation('relu')(x)\n",
        "z = 0\n",
        "for filter in filters:\n",
        "  if filter == 64:\n",
        "    x = UpSampling2D()(x)\n",
        "    x = Conv2D(filters = filter, kernel_size= 3,\n",
        "                    strides =1, padding ='same' , \n",
        "                    activation = 'relu')(x)\n",
        "    x = BatchNormalization()(x)\n",
        "    x = Activation('relu')(x)\n",
        "    z+=1\n",
        "  if z == 1:\n",
        "    x = UpSampling2D()(x)\n",
        "    x = Conv2D(filters = filter, kernel_size= 3,\n",
        "                    strides =1, padding ='same' , \n",
        "                    activation = 'relu')(x)\n",
        "    x = BatchNormalization()(x)\n",
        "    x = Activation('relu')(x)\n",
        "    x = Conv2D(filters = 1, kernel_size= 3,\n",
        "                    strides =1, padding ='same' , \n",
        "                    activation = 'relu')(x)\n",
        "    z+=1\n",
        "  if z==2:\n",
        "    break\n",
        "    x = UpSampling2D()(x)\n",
        "    x = Conv2D(filters = filter, kernel_size= 3,\n",
        "                    strides =1, padding ='same' , \n",
        "                    activation = 'relu')(x)\n",
        "    x = BatchNormalization()(x)\n",
        "    x = Activation('relu')(x)\n",
        "    x = Conv2D(filters = 1, kernel_size= 3,\n",
        "                    strides =1, padding ='same' , \n",
        "                    activation = 'relu')(x)\n",
        "\n",
        "#x = UpSampling2D()(x)\n",
        "#x = Conv2DTranspose(filters = filter, kernel_size= 3,\n",
        "  #        strides = 1,padding = 'same',\n",
        " #         activation = 'relu')(x)\n",
        "#x = BatchNormalization()(x)\n",
        "#x = Activation('relu')(x)\n",
        "\n",
        "\n",
        "gen_outputs = Activation('tanh')(x)\n",
        "\n",
        "\n",
        "\n",
        "generator = Model(latent_inputs, gen_outputs , name = 'generator')\n",
        "generator.summary()\n",
        "\n"
      ],
      "execution_count": null,
      "outputs": [
        {
          "output_type": "stream",
          "text": [
            "Model: \"generator\"\n",
            "_________________________________________________________________\n",
            "Layer (type)                 Output Shape              Param #   \n",
            "=================================================================\n",
            "decoder_input (InputLayer)   [(None, 100)]             0         \n",
            "_________________________________________________________________\n",
            "dense (Dense)                (None, 6272)              633472    \n",
            "_________________________________________________________________\n",
            "reshape (Reshape)            (None, 7, 7, 128)         0         \n",
            "_________________________________________________________________\n",
            "up_sampling2d (UpSampling2D) (None, 14, 14, 128)       0         \n",
            "_________________________________________________________________\n",
            "conv2d_6 (Conv2D)            (None, 14, 14, 64)        73792     \n",
            "_________________________________________________________________\n",
            "batch_normalization (BatchNo (None, 14, 14, 64)        256       \n",
            "_________________________________________________________________\n",
            "activation (Activation)      (None, 14, 14, 64)        0         \n",
            "_________________________________________________________________\n",
            "up_sampling2d_1 (UpSampling2 (None, 28, 28, 64)        0         \n",
            "_________________________________________________________________\n",
            "conv2d_7 (Conv2D)            (None, 28, 28, 64)        36928     \n",
            "_________________________________________________________________\n",
            "batch_normalization_1 (Batch (None, 28, 28, 64)        256       \n",
            "_________________________________________________________________\n",
            "activation_1 (Activation)    (None, 28, 28, 64)        0         \n",
            "_________________________________________________________________\n",
            "conv2d_8 (Conv2D)            (None, 28, 28, 1)         577       \n",
            "_________________________________________________________________\n",
            "activation_2 (Activation)    (None, 28, 28, 1)         0         \n",
            "=================================================================\n",
            "Total params: 745,281\n",
            "Trainable params: 745,025\n",
            "Non-trainable params: 256\n",
            "_________________________________________________________________\n"
          ],
          "name": "stdout"
        }
      ]
    },
    {
      "cell_type": "code",
      "metadata": {
        "id": "GPUPTU1Wprjf"
      },
      "source": [
        "discriminator.compile(RMSprop(learning_rate = 8e-4),\n",
        "             loss = 'binary_crossentropy', \n",
        "             metrics = ['accuracy'])\n",
        "\n",
        "discriminator.trainable = False\n",
        "\n",
        "model_input = Input(shape = [100,] , name = 'model_input')\n",
        "model_output = discriminator(generator(model_input))\n",
        "\n",
        "model = Model(model_input,model_output)\n",
        "\n",
        "model.compile(optimizer = RMSprop(learning_rate = 8e-4),\n",
        "              loss = 'binary_crossentropy',\n",
        "              metrics = ['accuracy'])\n"
      ],
      "execution_count": null,
      "outputs": []
    },
    {
      "cell_type": "code",
      "metadata": {
        "id": "eYRQtIm5tgFL"
      },
      "source": [
        "def train_discriminator(x_train, batch_size):\n",
        "  valid = np.ones((batch_size,1))\n",
        "  fake = np.zeros((batch_size,1))\n",
        " \n",
        "\n",
        "  idx = np.random.randint(0, x_train.shape[0], batch_size)\n",
        "  true_imgs = x_train[idx]\n",
        "  discriminator.train_on_batch(true_imgs, valid)\n",
        "\n",
        "  noise = np.random.normal(0, 1, (batch_size, z_dim))\n",
        "  gen_imgs = generator.predict(noise)\n",
        "  discriminator.train_on_batch(gen_imgs, fake)\n",
        "\n",
        "\n",
        "def train_generator(batch_size):\n",
        "  valid = np.ones((batch_size,1))\n",
        "  noise = np.random.normal(0, 1, (batch_size, z_dim))\n",
        "  model.train_on_batch(noise, valid)\n",
        "\n",
        "\n",
        "epochs = 10000\n",
        "batch_size = 64 \n",
        "\n",
        "for epoch in range(epochs):\n",
        "  train_discriminator(x_train,batch_size)\n",
        "  train_generator(batch_size)"
      ],
      "execution_count": null,
      "outputs": []
    },
    {
      "cell_type": "code",
      "metadata": {
        "colab": {
          "base_uri": "https://localhost:8080/"
        },
        "id": "LnpArnBVMGwb",
        "outputId": "552b05ef-2016-4c4b-d27a-e8d084495c5d"
      },
      "source": [
        "model.summary()"
      ],
      "execution_count": null,
      "outputs": [
        {
          "output_type": "stream",
          "text": [
            "Model: \"model\"\n",
            "_________________________________________________________________\n",
            "Layer (type)                 Output Shape              Param #   \n",
            "=================================================================\n",
            "model_input (InputLayer)     [(None, 100)]             0         \n",
            "_________________________________________________________________\n",
            "generator (Functional)       (None, 28, 28, 1)         745281    \n",
            "_________________________________________________________________\n",
            "discriminator (Functional)   (None, 1)                 449793    \n",
            "=================================================================\n",
            "Total params: 1,195,074\n",
            "Trainable params: 745,025\n",
            "Non-trainable params: 450,049\n",
            "_________________________________________________________________\n"
          ],
          "name": "stdout"
        }
      ]
    },
    {
      "cell_type": "code",
      "metadata": {
        "colab": {
          "base_uri": "https://localhost:8080/",
          "height": 282
        },
        "id": "0VlIrg-GD_Oc",
        "outputId": "89f364b3-fb8a-4184-fccf-865e64816182"
      },
      "source": [
        "noise = np.random.normal(0,1, (1,100))\n",
        "gen_imgs = generator.predict(noise)\n",
        "gen_imgs = gen_imgs.reshape([28,28,1])\n",
        "plt.imshow(gen_imgs[:,:,0], cmap = 'gray')"
      ],
      "execution_count": null,
      "outputs": [
        {
          "output_type": "execute_result",
          "data": {
            "text/plain": [
              "<matplotlib.image.AxesImage at 0x7f87dc4cfe90>"
            ]
          },
          "metadata": {
            "tags": []
          },
          "execution_count": 29
        },
        {
          "output_type": "display_data",
          "data": {
            "image/png": "[encoded data removed]",
            "text/plain": [
              "<Figure size 432x288 with 1 Axes>"
            ]
          },
          "metadata": {
            "tags": []
          }
        }
      ]
    },
    {
      "cell_type": "markdown",
      "metadata": {
        "id": "uXb4Ro-tSThS"
      },
      "source": [
        "##Generated Images"
      ]
    },
    {
      "cell_type": "code",
      "metadata": {
        "colab": {
          "base_uri": "https://localhost:8080/",
          "height": 586
        },
        "id": "2xRKOmrJwR8M",
        "outputId": "8151f098-56b3-4c81-9572-fbb976604d2c"
      },
      "source": [
        "plt.figure(figsize = (20,10))\n",
        "\n",
        "for i in range(1,9):\n",
        "  plt.subplot(2,4,i)\n",
        "  noise = np.random.normal(0,1, (1,100))\n",
        "  gen_imgs = generator.predict(noise)\n",
        "  gen_imgs = gen_imgs.reshape([28,28,1])\n",
        "  plt.imshow(gen_imgs[:,:,0], cmap = 'gray')\n"
      ],
      "execution_count": null,
      "outputs": [
        {
          "output_type": "display_data",
          "data": {
            "image/png": "[encoded data removed]",
            "text/plain": [
              "<Figure size 1440x720 with 8 Axes>"
            ]
          },
          "metadata": {
            "tags": []
          }
        }
      ]
    },
    {
      "cell_type": "code",
      "metadata": {
        "id": "SFC1BCYiRj--"
      },
      "source": [
        ""
      ],
      "execution_count": null,
      "outputs": []
    }
  ]
}